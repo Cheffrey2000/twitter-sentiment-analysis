{
 "cells": [
  {
   "cell_type": "code",
   "execution_count": 3,
   "metadata": {},
   "outputs": [],
   "source": [
    "import requests\n",
    "import os\n",
    "import json\n",
    "import re\n",
    "from nltk.sentiment.vader import SentimentIntensityAnalyzer\n",
    "from textblob import TextBlob\n",
    "consumer_key = os.environ.get('TWITTER_API_KEY')\n",
    "consumer_secret = os.environ.get('TWITTER_API_SECRET')\n",
    "bearer_token = os.environ.get('TWITTER_BEARER_TOKEN')\n",
    "\n",
    "search_url = \"https://api.twitter.com/2/tweets/search/recent\"\n",
    "\n",
    "query_params = {'query': 'biden documents'}"
   ]
  },
  {
   "cell_type": "code",
   "execution_count": 4,
   "metadata": {},
   "outputs": [],
   "source": [
    "def bearer_oauth(r):\n",
    "    r.headers[\"Authorization\"] = f\"Bearer {bearer_token}\"\n",
    "    r.headers[\"User-Agent\"] = \"v2RecentSearchPython\"\n",
    "    return r"
   ]
  },
  {
   "cell_type": "code",
   "execution_count": 5,
   "metadata": {},
   "outputs": [],
   "source": [
    "def get_tweets(url, params):\n",
    "    response = requests.get(url, auth=bearer_oauth, params=params)\n",
    "    print(response.status_code)\n",
    "    if response.status_code != 200:\n",
    "        raise Exception(response.status_code, response.text)\n",
    "    return response.json()\n",
    "\n",
    "def clean_tweet(tweet):\n",
    "    '''\n",
    "    Utility function to clean tweet text by removing links, special characters\n",
    "    using simple regex statements.\n",
    "    '''\n",
    "    return ' '.join(re.sub(\"(@[A-Za-z0-9]+)|([^0-9A-Za-z \\t])|(\\w+:\\/\\/\\S+)\", \" \", tweet).split())\n",
    "\n",
    "def get_tweet_sentiment(tweet):\n",
    "    # create TextBlob object of passed tweet text\n",
    "    analysis = TextBlob(clean_tweet(tweet))\n",
    "    # set sentiment\n",
    "    if analysis.sentiment.polarity > 0:\n",
    "        return 'positive'\n",
    "    elif analysis.sentiment.polarity == 0:\n",
    "        return 'neutral'\n",
    "    else:\n",
    "        return 'negative'"
   ]
  },
  {
   "cell_type": "code",
   "execution_count": 6,
   "metadata": {},
   "outputs": [
    {
     "name": "stdout",
     "output_type": "stream",
     "text": [
      "200\n",
      "200\n",
      "200\n",
      "200\n",
      "200\n",
      "200\n",
      "200\n",
      "200\n",
      "200\n",
      "200\n",
      "200\n"
     ]
    }
   ],
   "source": [
    "tweets = []\n",
    "search_url = \"https://api.twitter.com/2/tweets/search/recent\"\n",
    "search_term = 'ethereum'\n",
    "query_params = {'query': search_term}\n",
    "\n",
    "files = get_tweets(search_url, query_params)\n",
    "# while files['meta']['next_token']:\n",
    "for i in range(10):\n",
    "    for item in files['data']:\n",
    "        tweets.append([item['id'], item['text']])\n",
    "    query_params = {'query': search_term, 'pagination_token':files['meta']['next_token']}\n",
    "    files = get_tweets(search_url, query_params)\n",
    "    \n"
   ]
  },
  {
   "cell_type": "code",
   "execution_count": 7,
   "metadata": {},
   "outputs": [],
   "source": [
    "for i, element in enumerate(tweets):\n",
    "    sentiment = get_tweet_sentiment(element[1])\n",
    "    tweets[i] = [element[0], element[1], sentiment]"
   ]
  },
  {
   "cell_type": "code",
   "execution_count": 8,
   "metadata": {},
   "outputs": [
    {
     "data": {
      "text/plain": [
       "['1641931621480775681',\n",
       " 'RT @_ConsenSys: Today, we’re excited to announce that ConsenSys zkEVM is now Linea: an innovative Layer 2 solution for Ethereum, alongside…',\n",
       " 'positive']"
      ]
     },
     "execution_count": 8,
     "metadata": {},
     "output_type": "execute_result"
    }
   ],
   "source": [
    "tweets[0]"
   ]
  },
  {
   "cell_type": "code",
   "execution_count": 9,
   "metadata": {},
   "outputs": [
    {
     "name": "stdout",
     "output_type": "stream",
     "text": [
      "Good: 62 /n Bad: 2 /n Blah: 36\n"
     ]
    }
   ],
   "source": [
    "bad = 0\n",
    "good = 0\n",
    "blah = 0\n",
    "for i, element in enumerate(tweets):\n",
    "    sent = element[2]\n",
    "    if sent == \"neutral\":\n",
    "        blah += 1\n",
    "    elif sent == \"positive\":\n",
    "        good += 1\n",
    "    elif sent == \"negative\":\n",
    "        bad += 1\n",
    "\n",
    "print(f'Good: {good} /n Bad: {bad} /n Blah: {blah}')\n"
   ]
  },
  {
   "cell_type": "code",
   "execution_count": null,
   "metadata": {},
   "outputs": [],
   "source": []
  }
 ],
 "metadata": {
  "kernelspec": {
   "display_name": "learn-env-3_8",
   "language": "python",
   "name": "python3"
  },
  "language_info": {
   "codemirror_mode": {
    "name": "ipython",
    "version": 3
   },
   "file_extension": ".py",
   "mimetype": "text/x-python",
   "name": "python",
   "nbconvert_exporter": "python",
   "pygments_lexer": "ipython3",
   "version": "3.8.5"
  },
  "orig_nbformat": 4,
  "vscode": {
   "interpreter": {
    "hash": "61dea74601408675afe4adb5e3d7ba2e9f0db95408c6484a153434a2c2cd0142"
   }
  }
 },
 "nbformat": 4,
 "nbformat_minor": 2
}
